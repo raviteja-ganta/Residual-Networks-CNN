{
  "nbformat": 4,
  "nbformat_minor": 0,
  "metadata": {
    "colab": {
      "name": "Residual Networks.ipynb",
      "provenance": [],
      "collapsed_sections": [],
      "toc_visible": true
    },
    "kernelspec": {
      "name": "python3",
      "display_name": "Python 3"
    },
    "accelerator": "GPU"
  },
  "cells": [
    {
      "cell_type": "markdown",
      "metadata": {
        "id": "FIm3Kogx7sFa",
        "colab_type": "text"
      },
      "source": [
        "# Residual Networks\n",
        "\n",
        "Goal is to build very deep convolutional networks, using Residual Networks (ResNets). In theory, very deep networks can represent very complex functions; but in practice, they are hard to train. Residual Networks, introduced by [He et al.](https://arxiv.org/pdf/1512.03385.pdf), allow you to train much deeper networks than were previously practically feasible.\n",
        "\n",
        "**In this assignment, I am going to :**\n",
        "- Implement the basic building blocks of ResNets. \n",
        "- Put together these building blocks to implement and train a state-of-the-art neural network for image classification. "
      ]
    },
    {
      "cell_type": "code",
      "metadata": {
        "id": "98wlMI6h7wTd",
        "colab_type": "code",
        "colab": {
          "base_uri": "https://localhost:8080/",
          "height": 88
        },
        "outputId": "33147510-93e9-4681-b336-afd39f7bdfa3"
      },
      "source": [
        "import numpy as np\n",
        "from keras import layers\n",
        "from keras.layers import Input, Add, Dense, Activation, ZeroPadding2D, BatchNormalization, Flatten, Conv2D, AveragePooling2D, MaxPooling2D, GlobalMaxPooling2D\n",
        "from keras.models import Model, load_model\n",
        "from keras.preprocessing import image\n",
        "from keras.utils import layer_utils\n",
        "from keras.utils.data_utils import get_file\n",
        "from keras.applications.imagenet_utils import preprocess_input\n",
        "import pydot\n",
        "from IPython.display import SVG\n",
        "from keras.utils.vis_utils import model_to_dot\n",
        "from keras.utils import plot_model\n",
        "from resnets_utils import *\n",
        "from keras.initializers import glorot_uniform\n",
        "import scipy.misc\n",
        "from matplotlib.pyplot import imshow\n",
        "%matplotlib inline\n",
        "\n",
        "import keras.backend as K\n",
        "K.set_image_data_format('channels_last')\n",
        "K.set_learning_phase(1)"
      ],
      "execution_count": 1,
      "outputs": [
        {
          "output_type": "stream",
          "text": [
            "Using TensorFlow backend.\n"
          ],
          "name": "stderr"
        },
        {
          "output_type": "stream",
          "text": [
            "WARNING:tensorflow:From /usr/local/lib/python3.6/dist-packages/keras/backend/tensorflow_backend.py:66: The name tf.get_default_graph is deprecated. Please use tf.compat.v1.get_default_graph instead.\n",
            "\n"
          ],
          "name": "stdout"
        }
      ]
    },
    {
      "cell_type": "markdown",
      "metadata": {
        "id": "Y-Tddo9X8eFu",
        "colab_type": "text"
      },
      "source": [
        "## 1 - The problem of very deep neural networks\n",
        "\n",
        "In recent years, neural networks have become deeper, with state-of-the-art networks going from just a few layers (e.g., AlexNet) to over a hundred layers.\n",
        "\n",
        "* The main benefit of a very deep network is that it can represent very complex functions. It can also learn features at many different levels of abstraction, from edges (at the shallower layers, closer to the input) to very complex features (at the deeper layers, closer to the output). \n",
        "* However, using a deeper network doesn't always help. A huge barrier to training them is vanishing gradients: very deep networks often have a gradient signal that goes to zero quickly, thus making gradient descent prohibitively slow. \n",
        "* More specifically, during gradient descent, as you backprop from the final layer back to the first layer, you are multiplying by the weight matrix on each step, and thus the gradient can decrease exponentially quickly to zero (or, in rare cases, grow exponentially quickly and \"explode\" to take very large values). \n",
        "* During training, you might therefore see the magnitude (or norm) of the gradient for the shallower layers decrease to zero very rapidly as training proceeds:\n",
        "\n",
        "Please see the [image](https://) to understand how gradient decrease rapidly for shallow layers.\n",
        "\n",
        "Let's solve this problem by using Residual networks."
      ]
    },
    {
      "cell_type": "markdown",
      "metadata": {
        "id": "sugVW9VD-VCy",
        "colab_type": "text"
      },
      "source": [
        "## 2- Building a Residual network"
      ]
    },
    {
      "cell_type": "markdown",
      "metadata": {
        "id": "NDIQNu2L-bF6",
        "colab_type": "text"
      },
      "source": [
        "In ResNets, a \"shortcut\" or a \"skip connection\" allows the model to skip layers:\n",
        "\n",
        "Please refer to the [image](https://)\n",
        "\n",
        "The image on the left shows the \"main path\" through the network. The image on the right adds a shortcut to the main path. By stacking these ResNet blocks on top of each other, you can form a very deep network.\n",
        "\n",
        "ResNet blocks with the shortcut makes it very easy for one of the blocks to learn an identity function. This means that we can stack on additional ResNet blocks with little risk of harming training set performance.\n",
        "\n",
        "Two main types of blocks are used in a ResNet, depending mainly on whether the input/output dimensions are same or different. I am going to implement both of them: the \"identity block\" and the \"convolutional block.\""
      ]
    },
    {
      "cell_type": "markdown",
      "metadata": {
        "id": "o4UzaSia-_HW",
        "colab_type": "text"
      },
      "source": [
        "### 2.1 Identity block"
      ]
    },
    {
      "cell_type": "markdown",
      "metadata": {
        "id": "xwr6nUbz_J1v",
        "colab_type": "text"
      },
      "source": [
        "The identity block is the standard block used in ResNets, and corresponds to the case where the input activation (say  a[l]) has the same dimension as the output activation (say  a[l+2]). To flesh out the different steps of what happens in a ResNet's identity block, [here](https://) is an alternative diagram showing the individual steps:\n",
        "\n",
        "The upper path in image is the \"shortcut path.\" The lower path is the \"main path.\"\n",
        "\n",
        "Lets implement a slightly more powerful version of this identity block, in which the skip connection \"skips over\" 3 hidden layers. It looks like [this](https://)"
      ]
    },
    {
      "cell_type": "markdown",
      "metadata": {
        "id": "7R5fSBz-Atjo",
        "colab_type": "text"
      },
      "source": [
        "Here are individual steps.\n",
        "\n",
        "First component of main path:\n",
        "\n",
        "* The first CONV2D has F1 filters of shape (1,1) and a stride of (1,1). Its padding is \"valid\" and lets name it as conv_name_base + '2a'. Use 0 as the seed for the random initialization.\n",
        "* The first BatchNorm is normalizing the 'channels' axis. Its name should be bn_name_base + '2a'.\n",
        "* Then apply the ReLU activation function. This has no name and no hyperparameters.\n",
        "\n",
        "Second component of main path:\n",
        "\n",
        "* The second CONV2D has F2 filters of shape (f,f) and a stride of (1,1). Its padding is \"same\" and its name should be conv_name_base + '2b'. Use 0 as the seed for the random initialization.\n",
        "* The second BatchNorm is normalizing the 'channels' axis. Its name should be bn_name_base + '2b'.\n",
        "* Then apply the ReLU activation function. This has no name and no hyperparameters.\n",
        "\n",
        "Third component of main path:\n",
        "\n",
        "* The third CONV2D has F3 filters of shape (1,1) and a stride of (1,1). Its padding is \"valid\" and its name should be conv_name_base + '2c'. Use 0 as the seed for the random initialization.\n",
        "* The third BatchNorm is normalizing the 'channels' axis. Its name should be bn_name_base + '2c'.\n",
        "* Note that there is no ReLU activation function in this component.\n",
        "\n",
        "Final step:\n",
        "\n",
        "* The X_shortcut and the output from the 3rd layer X are added together.\n",
        "* Then apply the ReLU activation function. This has no name and no hyperparameters."
      ]
    },
    {
      "cell_type": "code",
      "metadata": {
        "id": "0jwNEIO_8G9C",
        "colab_type": "code",
        "colab": {}
      },
      "source": [
        "def identity_block(X, f, filters, stage, block):\n",
        "  \"\"\"\n",
        "  Implementation of the identity block as defined in Figure 4\n",
        "    \n",
        "  Arguments:\n",
        "  X -- input tensor of shape (m, n_H_prev, n_W_prev, n_C_prev)\n",
        "  f -- integer, specifying the shape of the middle CONV's window for the main path\n",
        "  filters -- python list of integers, defining the number of filters in the CONV layers of the main path\n",
        "  stage -- integer, used to name the layers, depending on their position in the network\n",
        "  block -- string/character, used to name the layers, depending on their position in the network\n",
        "  \n",
        "  Returns:\n",
        "  X -- output of the identity block, tensor of shape (n_H, n_W, n_C)\n",
        "  \"\"\"\n",
        "  \n",
        "  # defining name basis\n",
        "  conv_name_base = 'res' + str(stage) + block + '_branch'\n",
        "  bn_name_base = 'bn' + str(stage) + block + '_branch'\n",
        "  \n",
        "  # Retrieve Filters\n",
        "  F1, F2, F3 = filters\n",
        "  \n",
        "  # Save the input value. Will need this later to add back to the main path. \n",
        "  X_shortcut = X\n",
        "  \n",
        "  # First component of main path\n",
        "  X = Conv2D(filters = F1, kernel_size = (1, 1), strides = (1,1), padding = 'valid', name = conv_name_base + '2a', kernel_initializer = glorot_uniform(seed=0))(X)\n",
        "  X = BatchNormalization(axis = 3, name = bn_name_base + '2a')(X)\n",
        "  X = Activation('relu')(X)\n",
        "  \n",
        "  # Second component of main path\n",
        "  X = Conv2D(filters = F2, kernel_size = (f, f), strides = (1,1), padding = 'same', name = conv_name_base + '2b', kernel_initializer = glorot_uniform(seed=0))(X)\n",
        "  X = BatchNormalization(axis = 3, name = bn_name_base + '2b')(X)\n",
        "  X = Activation('relu')(X)\n",
        "  \n",
        "  # Third component of main path\n",
        "  X = Conv2D(filters = F3, kernel_size = (1, 1), strides = (1,1), padding = 'valid', name = conv_name_base + '2c', kernel_initializer = glorot_uniform(seed=0))(X)\n",
        "  X = BatchNormalization(axis = 3, name = bn_name_base + '2c')(X)\n",
        "  \n",
        "  # Final step: Add shortcut value to main path, and pass it through a RELU activation\n",
        "  X = Add()([X_shortcut,X])\n",
        "  X = Activation('relu')(X)\n",
        "  \n",
        "  return X"
      ],
      "execution_count": 0,
      "outputs": []
    },
    {
      "cell_type": "markdown",
      "metadata": {
        "id": "GSCJVl_DKe_j",
        "colab_type": "text"
      },
      "source": [
        "### 2.2 Convolutional block\n",
        "\n",
        "The ResNet \"convolutional block\" is the second block type. We use this type of block when the input and output dimensions don't match up. The difference with the identity block is that there is a CONV2D layer in the shortcut path. See [here](https://)\n",
        "\n",
        "* The CONV2D layer in the shortcut path is used to resize the input X to a different dimension, so that the dimensions match up in the final addition needed to add the shortcut value back to the main path.\n",
        "* For example, to reduce the activation dimensions's height and width by a factor of 2, we can use a 1x1 convolution with a stride of 2.\n",
        "* The CONV2D layer on the shortcut path does not use any non-linear activation function. Its main role is to just apply a (learned) linear function that reduces the dimension of the input, so that the dimensions match up for the later addition step.\n",
        "\n",
        "Details of convolutions are as follows:\n",
        "\n",
        "First component of main path:\n",
        "\n",
        "* The first CONV2D has F1 filters of shape (1,1) and a stride of (s,s). Its padding is \"valid\" and its name should be conv_name_base + '2a'. Use 0 as the glorot_uniform seed.\n",
        "* The first BatchNorm is normalizing the 'channels' axis. Its name should be bn_name_base + '2a'.\n",
        "* Then apply the ReLU activation function. This has no name and no hyperparameters.\n",
        "\n",
        "Second component of main path:\n",
        "\n",
        "* The second CONV2D has F2 filters of shape (f,f) and a stride of (1,1). Its padding is \"same\" and it's name should be conv_name_base + '2b'. Use 0 as the glorot_uniform seed.\n",
        "* The second BatchNorm is normalizing the 'channels' axis. Its name should be bn_name_base + '2b'.\n",
        "* Then apply the ReLU activation function. This has no name and no hyperparameters.\n",
        "\n",
        "Third component of main path:\n",
        "\n",
        "* The third CONV2D has F3 filters of shape (1,1) and a stride of (1,1). Its padding is \"valid\" and it's name should be conv_name_base + '2c'. Use 0 as the glorot_uniform seed.\n",
        "* The third BatchNorm is normalizing the 'channels' axis. Its name should be bn_name_base + '2c'. Note that there is no ReLU activation function in this component.\n",
        "\n",
        "Shortcut path:\n",
        "\n",
        "* The CONV2D has F3 filters of shape (1,1) and a stride of (s,s). Its padding is \"valid\" and its name should be conv_name_base + '1'. Use 0 as the glorot_uniform seed.\n",
        "* The BatchNorm is normalizing the 'channels' axis. Its name should be bn_name_base + '1'.\n",
        "\n",
        "Final step:\n",
        "\n",
        "* The shortcut and the main path values are added together.\n",
        "* Then apply the ReLU activation function. This has no name and no hyperparameters."
      ]
    },
    {
      "cell_type": "code",
      "metadata": {
        "id": "f-pImGmfH_dl",
        "colab_type": "code",
        "colab": {}
      },
      "source": [
        "def convolutional_block(X, f, filters, stage, block, s = 2):\n",
        "  \"\"\"\n",
        "  Implementation of the convolutional block as defined in Figure 4\n",
        "    \n",
        "  Arguments:\n",
        "  X -- input tensor of shape (m, n_H_prev, n_W_prev, n_C_prev)\n",
        "  f -- integer, specifying the shape of the middle CONV's window for the main path\n",
        "  filters -- python list of integers, defining the number of filters in the CONV layers of the main path\n",
        "  stage -- integer, used to name the layers, depending on their position in the network\n",
        "  block -- string/character, used to name the layers, depending on their position in the network\n",
        "  s -- Integer, specifying the stride to be used\n",
        "    \n",
        "  Returns:\n",
        "  X -- output of the convolutional block, tensor of shape (n_H, n_W, n_C)\n",
        "  \"\"\"\n",
        "    \n",
        "  # defining name basis\n",
        "  conv_name_base = 'res' + str(stage) + block + '_branch'\n",
        "  bn_name_base = 'bn' + str(stage) + block + '_branch'\n",
        "    \n",
        "  # Retrieve Filters\n",
        "  F1, F2, F3 = filters\n",
        "    \n",
        "  # Save the input value\n",
        "  X_shortcut = X\n",
        "\n",
        "\n",
        "  ##### MAIN PATH #####\n",
        "  # First component of main path \n",
        "  X = Conv2D(F1, (1, 1), strides = (s,s), padding = 'valid', name = conv_name_base + '2a', kernel_initializer = glorot_uniform(seed=0))(X)\n",
        "  X = BatchNormalization(axis = 3, name = bn_name_base + '2a')(X)\n",
        "  X = Activation('relu')(X)\n",
        "\n",
        "  # Second component of main path\n",
        "  X = Conv2D(F2, (f, f), strides = (1,1), padding = 'same', name = conv_name_base + '2b', kernel_initializer = glorot_uniform(seed=0))(X)\n",
        "  X = BatchNormalization(axis = 3, name = bn_name_base + '2b')(X)\n",
        "  X = Activation('relu')(X)\n",
        "\n",
        "  # Third component of main path\n",
        "  X = Conv2D(F3, (1, 1), strides = (1,1), padding = 'valid', name = conv_name_base + '2c', kernel_initializer = glorot_uniform(seed=0))(X)\n",
        "  X = BatchNormalization(axis = 3, name = bn_name_base + '2c')(X)\n",
        "\n",
        "  ##### SHORTCUT PATH ####\n",
        "  X_shortcut = Conv2D(F3, (1, 1), strides = (s,s), padding = 'valid', name = conv_name_base + '1', kernel_initializer = glorot_uniform(seed=0))(X)\n",
        "  X_shortcut = BatchNormalization(axis = 3, name = bn_name_base + '1')(X)\n",
        "\n",
        "  # Final step: Add shortcut value to main path, and pass it through a RELU activation\n",
        "  X = Add()([X_shortcut,X])\n",
        "  X = Activation('relu')(X)\n",
        "\n",
        "  return X"
      ],
      "execution_count": 0,
      "outputs": []
    },
    {
      "cell_type": "code",
      "metadata": {
        "id": "bGPRPfjQTq2V",
        "colab_type": "code",
        "colab": {}
      },
      "source": [
        ""
      ],
      "execution_count": 0,
      "outputs": []
    }
  ]
}