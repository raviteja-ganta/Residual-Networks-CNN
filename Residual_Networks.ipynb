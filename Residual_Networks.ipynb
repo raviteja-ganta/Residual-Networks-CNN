{
  "nbformat": 4,
  "nbformat_minor": 0,
  "metadata": {
    "colab": {
      "name": "Residual Networks.ipynb",
      "provenance": [],
      "collapsed_sections": [],
      "toc_visible": true
    },
    "kernelspec": {
      "name": "python3",
      "display_name": "Python 3"
    },
    "accelerator": "GPU"
  },
  "cells": [
    {
      "cell_type": "markdown",
      "metadata": {
        "id": "FIm3Kogx7sFa",
        "colab_type": "text"
      },
      "source": [
        "# Residual Networks\n",
        "\n",
        "Goal is to build very deep convolutional networks, using Residual Networks (ResNets). In theory, very deep networks can represent very complex functions; but in practice, they are hard to train. Residual Networks, introduced by [He et al.](https://arxiv.org/pdf/1512.03385.pdf), allow you to train much deeper networks than were previously practically feasible.\n",
        "\n",
        "**In this assignment, I am going to :**\n",
        "- Implement the basic building blocks of ResNets. \n",
        "- Put together these building blocks to implement and train a state-of-the-art neural network for image classification. "
      ]
    },
    {
      "cell_type": "code",
      "metadata": {
        "id": "98wlMI6h7wTd",
        "colab_type": "code",
        "colab": {}
      },
      "source": [
        "import numpy as np\n",
        "from keras import layers\n",
        "from keras.layers import Input, Add, Dense, Activation, ZeroPadding2D, BatchNormalization, Flatten, Conv2D, AveragePooling2D, MaxPooling2D, GlobalMaxPooling2D\n",
        "from keras.models import Model, load_model\n",
        "from keras.preprocessing import image\n",
        "from keras.utils import layer_utils\n",
        "from keras.utils.data_utils import get_file\n",
        "from keras.applications.imagenet_utils import preprocess_input\n",
        "import pydot\n",
        "from IPython.display import SVG\n",
        "from keras.utils.vis_utils import model_to_dot\n",
        "from keras.utils import plot_model\n",
        "from resnets_utils import *\n",
        "from keras.initializers import glorot_uniform\n",
        "import scipy.misc\n",
        "from matplotlib.pyplot import imshow\n",
        "%matplotlib inline\n",
        "\n",
        "import os\n",
        "import tensorflow as tf\n",
        "os.environ['TF_CPP_MIN_LOG_LEVEL'] = '2'\n",
        "\n",
        "import keras.backend as K\n",
        "K.set_image_data_format('channels_last')\n",
        "K.set_learning_phase(1)"
      ],
      "execution_count": 0,
      "outputs": []
    },
    {
      "cell_type": "markdown",
      "metadata": {
        "id": "Y-Tddo9X8eFu",
        "colab_type": "text"
      },
      "source": [
        "## 1 - The problem of very deep neural networks\n",
        "\n",
        "In recent years, neural networks have become deeper, with state-of-the-art networks going from just a few layers (e.g., AlexNet) to over a hundred layers.\n",
        "\n",
        "* The main benefit of a very deep network is that it can represent very complex functions. It can also learn features at many different levels of abstraction, from edges (at the shallower layers, closer to the input) to very complex features (at the deeper layers, closer to the output). \n",
        "* However, using a deeper network doesn't always help. A huge barrier to training them is vanishing gradients: very deep networks often have a gradient signal that goes to zero quickly, thus making gradient descent prohibitively slow. \n",
        "* More specifically, during gradient descent, as you backprop from the final layer back to the first layer, you are multiplying by the weight matrix on each step, and thus the gradient can decrease exponentially quickly to zero (or, in rare cases, grow exponentially quickly and \"explode\" to take very large values). \n",
        "* During training, you might therefore see the magnitude (or norm) of the gradient for the shallower layers decrease to zero very rapidly as training proceeds:\n",
        "\n",
        "Please see the [image](https://) to understand how gradient decrease rapidly for shallow layers.\n",
        "\n",
        "Let's solve this problem by using Residual networks."
      ]
    },
    {
      "cell_type": "markdown",
      "metadata": {
        "id": "sugVW9VD-VCy",
        "colab_type": "text"
      },
      "source": [
        "## 2- Building a Residual network"
      ]
    },
    {
      "cell_type": "markdown",
      "metadata": {
        "id": "NDIQNu2L-bF6",
        "colab_type": "text"
      },
      "source": [
        "In ResNets, a \"shortcut\" or a \"skip connection\" allows the model to skip layers:\n",
        "\n",
        "Please refer to the [image](https://)\n",
        "\n",
        "The image on the left shows the \"main path\" through the network. The image on the right adds a shortcut to the main path. By stacking these ResNet blocks on top of each other, you can form a very deep network.\n",
        "\n",
        "ResNet blocks with the shortcut makes it very easy for one of the blocks to learn an identity function. This means that we can stack on additional ResNet blocks with little risk of harming training set performance.\n",
        "\n",
        "Two main types of blocks are used in a ResNet, depending mainly on whether the input/output dimensions are same or different. I am going to implement both of them: the \"identity block\" and the \"convolutional block.\""
      ]
    },
    {
      "cell_type": "markdown",
      "metadata": {
        "id": "o4UzaSia-_HW",
        "colab_type": "text"
      },
      "source": [
        "### 2.1 Identity block"
      ]
    },
    {
      "cell_type": "markdown",
      "metadata": {
        "id": "xwr6nUbz_J1v",
        "colab_type": "text"
      },
      "source": [
        "The identity block is the standard block used in ResNets, and corresponds to the case where the input activation (say  a[l]) has the same dimension as the output activation (say  a[l+2]). To flesh out the different steps of what happens in a ResNet's identity block, [here](https://) is an alternative diagram showing the individual steps:\n",
        "\n",
        "The upper path in image is the \"shortcut path.\" The lower path is the \"main path.\"\n",
        "\n",
        "Lets implement a slightly more powerful version of this identity block, in which the skip connection \"skips over\" 3 hidden layers. It looks like [this](https://)"
      ]
    },
    {
      "cell_type": "markdown",
      "metadata": {
        "id": "7R5fSBz-Atjo",
        "colab_type": "text"
      },
      "source": [
        "Here are individual steps.\n",
        "\n",
        "First component of main path:\n",
        "\n",
        "* The first CONV2D has F1 filters of shape (1,1) and a stride of (1,1). Its padding is \"valid\" and lets name it as conv_name_base + '2a'. Use 0 as the seed for the random initialization.\n",
        "* The first BatchNorm is normalizing the 'channels' axis. Its name should be bn_name_base + '2a'.\n",
        "* Then apply the ReLU activation function. This has no name and no hyperparameters.\n",
        "\n",
        "Second component of main path:\n",
        "\n",
        "* The second CONV2D has F2 filters of shape (f,f) and a stride of (1,1). Its padding is \"same\" and its name should be conv_name_base + '2b'. Use 0 as the seed for the random initialization.\n",
        "* The second BatchNorm is normalizing the 'channels' axis. Its name should be bn_name_base + '2b'.\n",
        "* Then apply the ReLU activation function. This has no name and no hyperparameters.\n",
        "\n",
        "Third component of main path:\n",
        "\n",
        "* The third CONV2D has F3 filters of shape (1,1) and a stride of (1,1). Its padding is \"valid\" and its name should be conv_name_base + '2c'. Use 0 as the seed for the random initialization.\n",
        "* The third BatchNorm is normalizing the 'channels' axis. Its name should be bn_name_base + '2c'.\n",
        "* Note that there is no ReLU activation function in this component.\n",
        "\n",
        "Final step:\n",
        "\n",
        "* The X_shortcut and the output from the 3rd layer X are added together.\n",
        "* Then apply the ReLU activation function. This has no name and no hyperparameters."
      ]
    },
    {
      "cell_type": "code",
      "metadata": {
        "id": "0jwNEIO_8G9C",
        "colab_type": "code",
        "colab": {}
      },
      "source": [
        "def identity_block(X, f, filters, stage, block):\n",
        "  \"\"\"\n",
        "  Implementation of the identity block as defined in Figure 4\n",
        "    \n",
        "  Arguments:\n",
        "  X -- input tensor of shape (m, n_H_prev, n_W_prev, n_C_prev)\n",
        "  f -- integer, specifying the shape of the middle CONV's window for the main path\n",
        "  filters -- python list of integers, defining the number of filters in the CONV layers of the main path\n",
        "  stage -- integer, used to name the layers, depending on their position in the network\n",
        "  block -- string/character, used to name the layers, depending on their position in the network\n",
        "  \n",
        "  Returns:\n",
        "  X -- output of the identity block, tensor of shape (n_H, n_W, n_C)\n",
        "  \"\"\"\n",
        "  \n",
        "  # defining name basis\n",
        "  conv_name_base = 'res' + str(stage) + block + '_branch'\n",
        "  bn_name_base = 'bn' + str(stage) + block + '_branch'\n",
        "  \n",
        "  # Retrieve Filters\n",
        "  F1, F2, F3 = filters\n",
        "  \n",
        "  # Save the input value. Will need this later to add back to the main path. \n",
        "  X_shortcut = X\n",
        "  \n",
        "  # First component of main path\n",
        "  X = Conv2D(filters = F1, kernel_size = (1, 1), strides = (1,1), padding = 'valid', name = conv_name_base + '2a', kernel_initializer = glorot_uniform(seed=0))(X)\n",
        "  X = BatchNormalization(axis = 3, name = bn_name_base + '2a')(X)\n",
        "  X = Activation('relu')(X)\n",
        "  \n",
        "  # Second component of main path\n",
        "  X = Conv2D(filters = F2, kernel_size = (f, f), strides = (1,1), padding = 'same', name = conv_name_base + '2b', kernel_initializer = glorot_uniform(seed=0))(X)\n",
        "  X = BatchNormalization(axis = 3, name = bn_name_base + '2b')(X)\n",
        "  X = Activation('relu')(X)\n",
        "  \n",
        "  # Third component of main path\n",
        "  X = Conv2D(filters = F3, kernel_size = (1, 1), strides = (1,1), padding = 'valid', name = conv_name_base + '2c', kernel_initializer = glorot_uniform(seed=0))(X)\n",
        "  X = BatchNormalization(axis = 3, name = bn_name_base + '2c')(X)\n",
        "  \n",
        "  # Final step: Add shortcut value to main path, and pass it through a RELU activation\n",
        "  X = Add()([X_shortcut,X])\n",
        "  X = Activation('relu')(X)\n",
        "  \n",
        "  return X"
      ],
      "execution_count": 0,
      "outputs": []
    },
    {
      "cell_type": "markdown",
      "metadata": {
        "id": "GSCJVl_DKe_j",
        "colab_type": "text"
      },
      "source": [
        "### 2.2 Convolutional block\n",
        "\n",
        "The ResNet \"convolutional block\" is the second block type. We use this type of block when the input and output dimensions don't match up. The difference with the identity block is that there is a CONV2D layer in the shortcut path. See [here](https://)\n",
        "\n",
        "* The CONV2D layer in the shortcut path is used to resize the input X to a different dimension, so that the dimensions match up in the final addition needed to add the shortcut value back to the main path.\n",
        "* For example, to reduce the activation dimensions's height and width by a factor of 2, we can use a 1x1 convolution with a stride of 2.\n",
        "* The CONV2D layer on the shortcut path does not use any non-linear activation function. Its main role is to just apply a (learned) linear function that reduces the dimension of the input, so that the dimensions match up for the later addition step.\n",
        "\n",
        "Details of convolutions are as follows:\n",
        "\n",
        "First component of main path:\n",
        "\n",
        "* The first CONV2D has F1 filters of shape (1,1) and a stride of (s,s). Its padding is \"valid\" and its name should be conv_name_base + '2a'. Use 0 as the glorot_uniform seed.\n",
        "* The first BatchNorm is normalizing the 'channels' axis. Its name should be bn_name_base + '2a'.\n",
        "* Then apply the ReLU activation function. This has no name and no hyperparameters.\n",
        "\n",
        "Second component of main path:\n",
        "\n",
        "* The second CONV2D has F2 filters of shape (f,f) and a stride of (1,1). Its padding is \"same\" and it's name should be conv_name_base + '2b'. Use 0 as the glorot_uniform seed.\n",
        "* The second BatchNorm is normalizing the 'channels' axis. Its name should be bn_name_base + '2b'.\n",
        "* Then apply the ReLU activation function. This has no name and no hyperparameters.\n",
        "\n",
        "Third component of main path:\n",
        "\n",
        "* The third CONV2D has F3 filters of shape (1,1) and a stride of (1,1). Its padding is \"valid\" and it's name should be conv_name_base + '2c'. Use 0 as the glorot_uniform seed.\n",
        "* The third BatchNorm is normalizing the 'channels' axis. Its name should be bn_name_base + '2c'. Note that there is no ReLU activation function in this component.\n",
        "\n",
        "Shortcut path:\n",
        "\n",
        "* The CONV2D has F3 filters of shape (1,1) and a stride of (s,s). Its padding is \"valid\" and its name should be conv_name_base + '1'. Use 0 as the glorot_uniform seed.\n",
        "* The BatchNorm is normalizing the 'channels' axis. Its name should be bn_name_base + '1'.\n",
        "\n",
        "Final step:\n",
        "\n",
        "* The shortcut and the main path values are added together.\n",
        "* Then apply the ReLU activation function. This has no name and no hyperparameters."
      ]
    },
    {
      "cell_type": "code",
      "metadata": {
        "id": "f-pImGmfH_dl",
        "colab_type": "code",
        "colab": {}
      },
      "source": [
        "def convolutional_block(X, f, filters, stage, block, s = 2):\n",
        "  \"\"\"\n",
        "  Implementation of the convolutional block as defined in Figure 4\n",
        "    \n",
        "  Arguments:\n",
        "  X -- input tensor of shape (m, n_H_prev, n_W_prev, n_C_prev)\n",
        "  f -- integer, specifying the shape of the middle CONV's window for the main path\n",
        "  filters -- python list of integers, defining the number of filters in the CONV layers of the main path\n",
        "  stage -- integer, used to name the layers, depending on their position in the network\n",
        "  block -- string/character, used to name the layers, depending on their position in the network\n",
        "  s -- Integer, specifying the stride to be used\n",
        "    \n",
        "  Returns:\n",
        "  X -- output of the convolutional block, tensor of shape (n_H, n_W, n_C)\n",
        "  \"\"\"\n",
        "    \n",
        "  # defining name basis\n",
        "  conv_name_base = 'res' + str(stage) + block + '_branch'\n",
        "  bn_name_base = 'bn' + str(stage) + block + '_branch'\n",
        "    \n",
        "  # Retrieve Filters\n",
        "  F1, F2, F3 = filters\n",
        "    \n",
        "  # Save the input value\n",
        "  X_shortcut = X\n",
        "\n",
        "\n",
        "  ##### MAIN PATH #####\n",
        "  # First component of main path \n",
        "  X = Conv2D(F1, (1, 1), strides = (s,s), padding = 'valid', name = conv_name_base + '2a', kernel_initializer = glorot_uniform(seed=0))(X)\n",
        "  X = BatchNormalization(axis = 3, name = bn_name_base + '2a')(X)\n",
        "  X = Activation('relu')(X)\n",
        "\n",
        "  # Second component of main path\n",
        "  X = Conv2D(F2, (f, f), strides = (1,1), padding = 'same', name = conv_name_base + '2b', kernel_initializer = glorot_uniform(seed=0))(X)\n",
        "  X = BatchNormalization(axis = 3, name = bn_name_base + '2b')(X)\n",
        "  X = Activation('relu')(X)\n",
        "\n",
        "  # Third component of main path\n",
        "  X = Conv2D(F3, (1, 1), strides = (1,1), padding = 'valid', name = conv_name_base + '2c', kernel_initializer = glorot_uniform(seed=0))(X)\n",
        "  X = BatchNormalization(axis = 3, name = bn_name_base + '2c')(X)\n",
        "\n",
        "  ##### SHORTCUT PATH ####\n",
        "  X_shortcut = Conv2D(F3, (1, 1), strides = (s,s), padding = 'valid', name = conv_name_base + '1', kernel_initializer = glorot_uniform(seed=0))(X)\n",
        "  X_shortcut = BatchNormalization(axis = 3, name = bn_name_base + '1')(X)\n",
        "\n",
        "  # Final step: Add shortcut value to main path, and pass it through a RELU activation\n",
        "  X = Add()([X_shortcut,X])\n",
        "  X = Activation('relu')(X)\n",
        "\n",
        "  return X"
      ],
      "execution_count": 0,
      "outputs": []
    },
    {
      "cell_type": "markdown",
      "metadata": {
        "id": "AoTQfBipXMxD",
        "colab_type": "text"
      },
      "source": [
        "## 3 - Building first ResNet model (50 layers)\n",
        "\n",
        "We have the necessary blocks to build a very deep ResNet. [figure](https://) describes in detail the architecture of this neural network. \"ID BLOCK\" in the diagram stands for \"Identity block,\" and \"ID BLOCK x3\" means we should stack 3 identity blocks together.\n",
        "\n",
        "The details of this ResNet-50 model are:\n",
        "\n",
        "* Zero-padding pads the input with a pad of (3,3)\n",
        "* Stage 1:\n",
        " * The 2D Convolution has 64 filters of shape (7,7) and uses a stride of (2,2). Its name is \"conv1\".\n",
        " * BatchNorm is applied to the 'channels' axis of the input.\n",
        " * MaxPooling uses a (3,3) window and a (2,2) stride.\n",
        "* Stage 2:\n",
        " * The convolutional block uses three sets of filters of size [64,64,256], \"f\" is 3, \"s\" is 1 and the block is \"a\".\n",
        " * The 2 identity blocks use three sets of filters of size [64,64,256], \"f\" is 3 and the blocks are \"b\" and \"c\".\n",
        "* Stage 3:\n",
        " * The convolutional block uses three sets of filters of size [128,128,512], \"f\" is 3, \"s\" is 2 and the block is \"a\".\n",
        " * The 3 identity blocks use three sets of filters of size [128,128,512], \"f\" is 3 and the blocks are \"b\", \"c\" and \"d\".\n",
        "* Stage 4:\n",
        " * The convolutional block uses three sets of filters of size [256, 256, 1024], \"f\" is 3, \"s\" is 2 and the block is \"a\".\n",
        " * The 5 identity blocks use three sets of filters of size [256, 256, 1024], \"f\" is 3 and the blocks are \"b\", \"c\", \"d\", \"e\" and \"f\".\n",
        "* Stage 5:\n",
        " * The convolutional block uses three sets of filters of size [512, 512, 2048], \"f\" is 3, \"s\" is 2 and the block is \"a\".\n",
        " * The 2 identity blocks use three sets of filters of size [512, 512, 2048], \"f\" is 3 and the blocks are \"b\" and \"c\".\n",
        "* The 2D Average Pooling uses a window of shape (2,2) and its name is \"avg_pool\".\n",
        "* The 'flatten' layer doesn't have any hyperparameters or name.\n",
        "* The Fully Connected (Dense) layer reduces its input to the number of classes using a softmax activation. Its name should be 'fc' + str(classes).\n",
        "\n"
      ]
    },
    {
      "cell_type": "code",
      "metadata": {
        "id": "bGPRPfjQTq2V",
        "colab_type": "code",
        "colab": {}
      },
      "source": [
        "# GRADED FUNCTION: ResNet50\n",
        "\n",
        "def ResNet50(input_shape = (64, 64, 3), classes = 6):\n",
        "  \"\"\"\n",
        "  Implementation of the popular ResNet50 the following architecture:\n",
        "  CONV2D -> BATCHNORM -> RELU -> MAXPOOL -> CONVBLOCK -> IDBLOCK*2 -> CONVBLOCK -> IDBLOCK*3\n",
        "  -> CONVBLOCK -> IDBLOCK*5 -> CONVBLOCK -> IDBLOCK*2 -> AVGPOOL -> TOPLAYER\n",
        "\n",
        "  Arguments:\n",
        "  input_shape -- shape of the images of the dataset\n",
        "  classes -- integer, number of classes\n",
        "\n",
        "  Returns:\n",
        "  model -- a Model() instance in Keras\n",
        "  \"\"\"\n",
        "    \n",
        "  # Define the input as a tensor with shape input_shape\n",
        "  X_input = Input(input_shape)\n",
        "\n",
        "    \n",
        "  # Zero-Padding\n",
        "  X = ZeroPadding2D((3, 3))(X_input)\n",
        "    \n",
        "  # Stage 1\n",
        "  X = Conv2D(64, (7, 7), strides = (2, 2), name = 'conv1', kernel_initializer = glorot_uniform(seed=0))(X)\n",
        "  X = BatchNormalization(axis = 3, name = 'bn_conv1')(X)\n",
        "  X = Activation('relu')(X)\n",
        "  X = MaxPooling2D((3, 3), strides=(2, 2))(X)\n",
        "\n",
        "  # Stage 2\n",
        "  X = convolutional_block(X, f = 3, filters = [64, 64, 256], stage = 2, block='a', s = 1)\n",
        "  X = identity_block(X, 3, [64, 64, 256], stage=2, block='b')\n",
        "  X = identity_block(X, 3, [64, 64, 256], stage=2, block='c')\n",
        "\n",
        "  ### START CODE HERE ###\n",
        "\n",
        "  # Stage 3 (≈4 lines)\n",
        "  X = convolutional_block(X, f = 3, filters = [128, 128, 512], stage = 3, block='a', s = 2)\n",
        "  X = identity_block(X, 3, [128, 128, 512], stage=3, block='b')\n",
        "  X = identity_block(X, 3, [128, 128, 512], stage=3, block='c')\n",
        "  X = identity_block(X, 3, [128, 128, 512], stage=3, block='d')\n",
        "\n",
        "  # Stage 4 (≈6 lines)\n",
        "  X = convolutional_block(X, f = 3, filters = [256, 256, 1024], stage = 4, block='a', s = 2)\n",
        "  X = identity_block(X, 3, [256, 256, 1024], stage=4, block='b')\n",
        "  X = identity_block(X, 3, [256, 256, 1024], stage=4, block='c')\n",
        "  X = identity_block(X, 3, [256, 256, 1024], stage=4, block='d')\n",
        "  X = identity_block(X, 3, [256, 256, 1024], stage=4, block='e')\n",
        "  X = identity_block(X, 3, [256, 256, 1024], stage=4, block='f')\n",
        "\n",
        "  # Stage 5 (≈3 lines)\n",
        "  X = convolutional_block(X, f = 3, filters = [512, 512, 2048], stage = 5, block='a', s = 2)\n",
        "  X = identity_block(X, 3, [512, 512, 2048], stage=5, block='b')\n",
        "  X = identity_block(X, 3, [512, 512, 2048], stage=5, block='c')\n",
        "\n",
        "    # AVGPOOL (≈1 line). Use \"X = AveragePooling2D(...)(X)\"\n",
        "  X = AveragePooling2D(pool_size=(2, 2))(X)\n",
        "    \n",
        "  ### END CODE HERE ###\n",
        "\n",
        "  # output layer\n",
        "  X = Flatten()(X)\n",
        "  X = Dense(classes, activation='softmax', name='fc' + str(classes), kernel_initializer = glorot_uniform(seed=0))(X)\n",
        "    \n",
        "    \n",
        "  # Create model\n",
        "  model = Model(inputs = X_input, outputs = X, name='ResNet50')\n",
        "\n",
        "  return model"
      ],
      "execution_count": 0,
      "outputs": []
    },
    {
      "cell_type": "markdown",
      "metadata": {
        "id": "m3h9KcYrhpiC",
        "colab_type": "text"
      },
      "source": [
        "Now lets build model graph."
      ]
    },
    {
      "cell_type": "code",
      "metadata": {
        "id": "1qFl1oQjgav0",
        "colab_type": "code",
        "colab": {}
      },
      "source": [
        "model = ResNet50(input_shape = (64, 64, 3), classes = 6)  \n",
        "\n",
        "# Here classes = 6 because dataset I will be passing through this ResNet has 6 classes and model need to classify\n",
        "# image in to one of these 6 classes."
      ],
      "execution_count": 0,
      "outputs": []
    },
    {
      "cell_type": "markdown",
      "metadata": {
        "id": "Sy_wY5_MirNu",
        "colab_type": "text"
      },
      "source": [
        "Prior training a model, we need to configure the learning process by compiling the model."
      ]
    },
    {
      "cell_type": "code",
      "metadata": {
        "id": "Ke7Mfkxhh9r8",
        "colab_type": "code",
        "colab": {}
      },
      "source": [
        "model.compile(optimizer='adam', loss='categorical_crossentropy', metrics=['accuracy'])"
      ],
      "execution_count": 0,
      "outputs": []
    },
    {
      "cell_type": "markdown",
      "metadata": {
        "id": "5i5rRI_jjh_x",
        "colab_type": "text"
      },
      "source": [
        "Model is ready to be trained. Lets load the dataset.\n",
        "\n",
        "We will be using SIGNS dataset. SIGNS dataset is a collection of 6 hand signs representing numbers from 0 to 5.\n",
        "\n",
        "Goal is to classify image in to 6 catgories.\n",
        "\n",
        "Sample of how data looks like in [here](https://)"
      ]
    },
    {
      "cell_type": "code",
      "metadata": {
        "id": "sjSH0Dt9iu8w",
        "colab_type": "code",
        "outputId": "e832e3fe-d5d1-450f-c29d-8721e72f498b",
        "colab": {
          "base_uri": "https://localhost:8080/",
          "height": 119
        }
      },
      "source": [
        "X_train_orig, Y_train_orig, X_test_orig, Y_test_orig, classes = load_dataset()\n",
        "\n",
        "# Normalize image vectors\n",
        "X_train = X_train_orig/255.\n",
        "X_test = X_test_orig/255.\n",
        "\n",
        "# Convert training and test labels to one hot matrices\n",
        "Y_train = convert_to_one_hot(Y_train_orig, 6).T\n",
        "Y_test = convert_to_one_hot(Y_test_orig, 6).T\n",
        "\n",
        "print (\"number of training examples = \" + str(X_train.shape[0]))\n",
        "print (\"number of test examples = \" + str(X_test.shape[0]))\n",
        "print (\"X_train shape: \" + str(X_train.shape))\n",
        "print (\"Y_train shape: \" + str(Y_train.shape))\n",
        "print (\"X_test shape: \" + str(X_test.shape))\n",
        "print (\"Y_test shape: \" + str(Y_test.shape))"
      ],
      "execution_count": 18,
      "outputs": [
        {
          "output_type": "stream",
          "text": [
            "number of training examples = 1080\n",
            "number of test examples = 120\n",
            "X_train shape: (1080, 64, 64, 3)\n",
            "Y_train shape: (1080, 6)\n",
            "X_test shape: (120, 64, 64, 3)\n",
            "Y_test shape: (120, 6)\n"
          ],
          "name": "stdout"
        }
      ]
    },
    {
      "cell_type": "markdown",
      "metadata": {
        "id": "c5r_rAltyAMm",
        "colab_type": "text"
      },
      "source": [
        "Run the following cell to train the model on 20 epochs with a batch size of 32."
      ]
    },
    {
      "cell_type": "code",
      "metadata": {
        "id": "K3m6MW8ByJFS",
        "colab_type": "code",
        "colab": {
          "base_uri": "https://localhost:8080/",
          "height": 714
        },
        "outputId": "9e59e1d0-da68-4ba4-b110-e8a8a62d8417"
      },
      "source": [
        "model.fit(X_train, Y_train, epochs = 20, batch_size = 32)"
      ],
      "execution_count": 19,
      "outputs": [
        {
          "output_type": "stream",
          "text": [
            "Epoch 1/20\n",
            "1080/1080 [==============================] - 25s 23ms/step - loss: 2.9296 - acc: 0.2796\n",
            "Epoch 2/20\n",
            "1080/1080 [==============================] - 9s 8ms/step - loss: 1.7834 - acc: 0.4889\n",
            "Epoch 3/20\n",
            "1080/1080 [==============================] - 9s 8ms/step - loss: 1.2903 - acc: 0.5769\n",
            "Epoch 4/20\n",
            "1080/1080 [==============================] - 8s 8ms/step - loss: 1.2597 - acc: 0.6769\n",
            "Epoch 5/20\n",
            "1080/1080 [==============================] - 8s 8ms/step - loss: 1.0505 - acc: 0.7694\n",
            "Epoch 6/20\n",
            "1080/1080 [==============================] - 8s 8ms/step - loss: 1.5049 - acc: 0.6065\n",
            "Epoch 7/20\n",
            "1080/1080 [==============================] - 8s 7ms/step - loss: 1.3280 - acc: 0.6657\n",
            "Epoch 8/20\n",
            "1080/1080 [==============================] - 8s 8ms/step - loss: 1.3090 - acc: 0.6861\n",
            "Epoch 9/20\n",
            "1080/1080 [==============================] - 8s 8ms/step - loss: 1.6119 - acc: 0.5463\n",
            "Epoch 10/20\n",
            "1080/1080 [==============================] - 8s 7ms/step - loss: 1.2564 - acc: 0.7083\n",
            "Epoch 11/20\n",
            "1080/1080 [==============================] - 8s 7ms/step - loss: 1.3503 - acc: 0.7287\n",
            "Epoch 12/20\n",
            "1080/1080 [==============================] - 8s 7ms/step - loss: 1.0617 - acc: 0.7796\n",
            "Epoch 13/20\n",
            "1080/1080 [==============================] - 8s 7ms/step - loss: 0.9883 - acc: 0.8037\n",
            "Epoch 14/20\n",
            "1080/1080 [==============================] - 8s 7ms/step - loss: 0.9102 - acc: 0.8231\n",
            "Epoch 15/20\n",
            "1080/1080 [==============================] - 8s 7ms/step - loss: 0.6661 - acc: 0.8657\n",
            "Epoch 16/20\n",
            "1080/1080 [==============================] - 8s 7ms/step - loss: 1.0144 - acc: 0.7907\n",
            "Epoch 17/20\n",
            "1080/1080 [==============================] - 8s 7ms/step - loss: 0.8066 - acc: 0.8306\n",
            "Epoch 18/20\n",
            "1080/1080 [==============================] - 8s 7ms/step - loss: 0.8902 - acc: 0.8241\n",
            "Epoch 19/20\n",
            "1080/1080 [==============================] - 8s 7ms/step - loss: 0.9852 - acc: 0.7991\n",
            "Epoch 20/20\n",
            "1080/1080 [==============================] - 8s 7ms/step - loss: 0.8968 - acc: 0.8407\n"
          ],
          "name": "stdout"
        },
        {
          "output_type": "execute_result",
          "data": {
            "text/plain": [
              "<keras.callbacks.History at 0x7f792ab345f8>"
            ]
          },
          "metadata": {
            "tags": []
          },
          "execution_count": 19
        }
      ]
    },
    {
      "cell_type": "markdown",
      "metadata": {
        "id": "wKRkxydUzksV",
        "colab_type": "text"
      },
      "source": [
        "Let's see how this model (trained on 20 epochs) performs on the test set."
      ]
    },
    {
      "cell_type": "code",
      "metadata": {
        "id": "GX-BbwWOyNMB",
        "colab_type": "code",
        "colab": {
          "base_uri": "https://localhost:8080/",
          "height": 68
        },
        "outputId": "475667d8-8c00-4c4f-f3c6-5dee005af327"
      },
      "source": [
        "preds = model.evaluate(X_test, Y_test)\n",
        "print (\"Loss = \" + str(preds[0]))\n",
        "print (\"Test Accuracy = \" + str(preds[1]))"
      ],
      "execution_count": 20,
      "outputs": [
        {
          "output_type": "stream",
          "text": [
            "120/120 [==============================] - 3s 21ms/step\n",
            "Loss = 0.9885895808537801\n",
            "Test Accuracy = 0.8583333333333333\n"
          ],
          "name": "stdout"
        }
      ]
    },
    {
      "cell_type": "markdown",
      "metadata": {
        "id": "0oFvqhuB1rMZ",
        "colab_type": "text"
      },
      "source": [
        "ResNet50 is a powerful model for image classification when it is trained for an adequate number of iterations and with large dataset."
      ]
    },
    {
      "cell_type": "markdown",
      "metadata": {
        "id": "8xy5d-zQBXBJ",
        "colab_type": "text"
      },
      "source": [
        "#### Important points to remember.\n",
        "\n",
        "* Very deep \"plain\" networks don't work in practice because they are hard to train due to vanishing gradients.\n",
        "* The skip-connections help to address the Vanishing Gradient problem. They also make it easy for a ResNet block to learn an identity function.\n",
        "* There are two main types of blocks: The identity block and the convolutional block.\n",
        "* Very deep Residual Networks are built by stacking these blocks together."
      ]
    }
  ]
}